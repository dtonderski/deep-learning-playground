{
 "cells": [
  {
   "cell_type": "code",
   "execution_count": 23,
   "metadata": {
    "collapsed": true
   },
   "outputs": [
    {
     "name": "stdout",
     "output_type": "stream",
     "text": [
      "+-------+-------+-------+\n| 3   4 | 8 5 9 | 1 2 7 |\n|   5   |   4   | 9 6   |\n| 8 2 9 | 6 7   | 3     |\n+-------+-------+-------+\n|   4 1 | 7 8   |       |\n|       | 5   2 | 4   1 |\n|     2 |   3 4 | 5     |\n+-------+-------+-------+\n| 7 9 6 |       |       |\n| 4 1   |     7 |       |\n| 2 3   |   6   | 7   4 |\n+-------+-------+-------+\n\n+-------+-------+-------+\n| 3 6 4 | 8 5 9 | 1 2 7 |\n| 1 5 7 | 2 4 3 | 9 6 8 |\n| 8 2 9 | 6 7 1 | 3 4 5 |\n+-------+-------+-------+\n| 5 4 1 | 7 8 6 | 2 9 3 |\n| 6 7 3 | 5 9 2 | 4 8 1 |\n| 9 8 2 | 1 3 4 | 5 7 6 |\n+-------+-------+-------+\n| 7 9 6 | 4 1 5 | 8 3 2 |\n| 4 1 8 | 3 2 7 | 6 5 9 |\n| 2 3 5 | 9 6 8 | 7 1 4 |\n+-------+-------+-------+\n\n"
     ]
    }
   ],
   "source": [
    "from sudoku import Sudoku\n",
    "import numpy as np\n",
    "puzzle = Sudoku(3).difficulty(0.5)\n",
    "puzzle.show()\n",
    "solved = puzzle.solve()\n",
    "solved.show()\n"
   ]
  },
  {
   "cell_type": "code",
   "execution_count": 24,
   "metadata": {},
   "outputs": [
    {
     "data": {
      "text/plain": [
       "[[3, None, 4, 8, 5, 9, 1, 2, 7],\n [None, 5, None, None, 4, None, 9, 6, None],\n [8, 2, 9, 6, 7, None, 3, None, None],\n [None, 4, 1, 7, 8, None, None, None, None],\n [None, None, None, 5, None, 2, 4, None, 1],\n [None, None, 2, None, 3, 4, 5, None, None],\n [7, 9, 6, None, None, None, None, None, None],\n [4, 1, None, None, None, 7, None, None, None],\n [2, 3, None, None, 6, None, 7, None, 4]]"
      ]
     },
     "execution_count": 24,
     "metadata": {},
     "output_type": "execute_result"
    }
   ],
   "source": [
    "puzzle.board\n"
   ]
  },
  {
   "cell_type": "code",
   "execution_count": 43,
   "metadata": {},
   "outputs": [
    {
     "name": "stdout",
     "output_type": "stream",
     "text": [
      "[None, None, None, None, None, None, None, 1, None, 4, None, None, None, None, None, None, None, None, None, 2, None, None, None, None, None, None, None, None, None, None, None, 5, None, 4, None, 7, None, None, 8, None, None, None, 3, None, None, None, None, 1, None, 9, None, None, None, None, 3, None, None, 4, None, None, 2, None, None, None, 5, None, 1, None, None, None, None, None, None, None, None, 8, None, 6, None, None, None]\n"
     ]
    }
   ],
   "source": [
    "string = \"000000010400000000020000000000050407008000300001090000300400200050100000000806000\"\n",
    "string = list(map(int, list(string)))\n",
    "string = [x if x > 0 else None for x in string]\n",
    "print(string)\n",
    "string = np.reshape(string, (9,9))\n"
   ]
  },
  {
   "cell_type": "code",
   "execution_count": 45,
   "metadata": {},
   "outputs": [
    {
     "name": "stdout",
     "output_type": "stream",
     "text": [
      "+-------+-------+-------+\n| 6 9 3 | 7 8 4 | 5 1 2 |\n| 4 8 7 | 5 1 2 | 9 3 6 |\n| 1 2 5 | 9 6 3 | 8 7 4 |\n+-------+-------+-------+\n| 9 3 2 | 6 5 1 | 4 8 7 |\n| 5 6 8 | 2 4 7 | 3 9 1 |\n| 7 4 1 | 3 9 8 | 6 2 5 |\n+-------+-------+-------+\n| 3 1 9 | 4 7 5 | 2 6 8 |\n| 8 5 6 | 1 2 9 | 7 4 3 |\n| 2 7 4 | 8 3 6 | 1 5 9 |\n+-------+-------+-------+\n\n"
     ]
    }
   ],
   "source": [
    "puzzle.board = string\n",
    "solved = puzzle.solve()\n"
   ]
  },
  {
   "cell_type": "code",
   "execution_count": null,
   "metadata": {},
   "outputs": [],
   "source": []
  }
 ],
 "metadata": {
  "kernelspec": {
   "display_name": "Python 2",
   "language": "python",
   "name": "python2"
  },
  "language_info": {
   "codemirror_mode": {
    "name": "ipython",
    "version": 2
   },
   "file_extension": ".py",
   "mimetype": "text/x-python",
   "name": "python",
   "nbconvert_exporter": "python",
   "pygments_lexer": "ipython2",
   "version": "2.7.6"
  }
 },
 "nbformat": 4,
 "nbformat_minor": 0
}
